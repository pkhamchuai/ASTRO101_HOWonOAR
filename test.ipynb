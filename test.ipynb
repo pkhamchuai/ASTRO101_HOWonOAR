{
 "cells": [
  {
   "cell_type": "code",
   "execution_count": 3,
   "metadata": {},
   "outputs": [],
   "source": [
    "import astropy\n",
    "import subprocess\n",
    "import numpy\n",
    "import matplotlib\n",
    "import photutils\n",
    "import pyregion\n",
    "import scipy\n",
    "import reproject\n",
    "import astroquery\n",
    "import stdpipe\n",
    "import warnings\n",
    "import urllib\n",
    "import astroML\n",
    "import spectres\n",
    "import glob\n",
    "import extinction\n",
    "import sep"
   ]
  },
  {
   "cell_type": "code",
   "execution_count": null,
   "metadata": {},
   "outputs": [],
   "source": []
  }
 ],
 "metadata": {
  "kernelspec": {
   "display_name": "astro",
   "language": "python",
   "name": "python3"
  },
  "language_info": {
   "codemirror_mode": {
    "name": "ipython",
    "version": 3
   },
   "file_extension": ".py",
   "mimetype": "text/x-python",
   "name": "python",
   "nbconvert_exporter": "python",
   "pygments_lexer": "ipython3",
   "version": "3.9.17"
  },
  "orig_nbformat": 4
 },
 "nbformat": 4,
 "nbformat_minor": 2
}
