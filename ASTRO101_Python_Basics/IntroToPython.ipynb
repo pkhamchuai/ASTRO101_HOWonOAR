{
 "cells": [
  {
   "cell_type": "markdown",
   "metadata": {
    "id": "XaOA2wY4V4rz",
    "tags": []
   },
   "source": [
    "# Intro to Python\n",
    "How you should write code in the Python programming language. \n",
    "**These rules ensure that your code is properly structured** and can be understood by both humans and the Python interpreter."
   ]
  },
  {
   "cell_type": "markdown",
   "metadata": {
    "id": "ypBIxHkTYks_"
   },
   "source": [
    "Here are some key aspects of Python syntax:\n",
    "\n",
    "1. **Indentation:** Python uses indentation (whitespace) to indicate the structure of code blocks, such as loops and functions. Indentation is mandatory and replaces the need for curly braces or keywords like \"begin\" and \"end\" in other languages.\n",
    "\n",
    "```python\n",
    "if x > 10:\n",
    "   print(\"x is greater than 10\")\n",
    "else:\n",
    "   print(\"x is not greater than 10\")\n",
    "```\n",
    "<br>\n",
    "\n",
    "2. **Variables:** Variables are used to store data. In Python, you don't need to explicitly declare a variable's type; it's dynamically typed based on the value it holds.\n",
    "\n",
    "```python\n",
    "name = \"Alice\"\n",
    "age = 30\n",
    "height = 5.9\n",
    "is_student = True\n",
    "```\n",
    "<br>\n",
    "\n",
    "3. **Statements and Expressions:** Python code is composed of statements and expressions. Statements are instructions that perform actions, while expressions produce values.\n",
    "\n",
    "```python\n",
    "# Statement\n",
    "x = 5\n",
    "\n",
    "# Expression\n",
    "y = 2 * (x + 3)\n",
    "```\n",
    "<br>\n",
    "\n",
    "4. **Comments:** Comments are used to annotate code and explain its purpose. They are not executed by the interpreter.\n",
    "\n",
    "   ```python\n",
    "    # This is a single-line comment with haskmark.\n",
    "\n",
    "   \"\"\"\n",
    "   This is a multi-line\n",
    "   comment with triple qoutes.\n",
    "   \"\"\"\n",
    "   ```\n",
    "<br>\n",
    "\n",
    "5. **Function Definitions:** Functions are defined using the `def` keyword.\n",
    "\n",
    "```python\n",
    "def greet(name):\n",
    "    return \"Hello, \" + name + \"!\"\n",
    "\n",
    "# Call function\n",
    "message = greet(\"Nu\")\n",
    "print(message)\n",
    "```\n",
    "<br>\n",
    "\n",
    "6. **Conditional Statements:** Conditional statements are used to make decisions in your code.\n",
    "\n",
    "   ```python\n",
    "   if x > 0:\n",
    "       print(\"x is positive\")\n",
    "   elif x == 0:\n",
    "       print(\"x is zero\")\n",
    "   else:\n",
    "       print(\"x is negative\")\n",
    "   ```\n",
    "<br>\n",
    "\n",
    "7. **Loops:** Loops allow you to repeatedly execute code.\n",
    "\n",
    "   ```python\n",
    "   for i in range(5):\n",
    "       print(i)\n",
    "\n",
    "\n",
    "   while x > 0:\n",
    "       x -= 1\n",
    "   ```\n",
    "<br>\n",
    "\n",
    "8. **Lists and Dictionaries:** Lists are ordered collections, while dictionaries are key-value pairs.\n",
    "\n",
    "```python\n",
    "my_list = [1, 2, 3, 4, 5]\n",
    "my_dict = {\"name\": \"John\", \"age\": 25}\n",
    "```\n",
    "\n",
    "```python\n",
    "fruits = [\"apple\", \"banana\", \"orange\"]\n",
    "for fruit in fruits:\n",
    "    print(fruit)\n",
    "```\n",
    "<br>\n",
    "\n",
    "9. **Classes and Objects:** Python is an object-oriented language, so you can define classes and create objects from them.\n",
    "\n",
    "   ```python\n",
    "   class Car:\n",
    "       def __init__(self, make, model):\n",
    "           self.make = make\n",
    "           self.model = model\n",
    "   ```\n",
    "\n",
    "10. **Exception Handling:**\n",
    "```python\n",
    "try:\n",
    "    result = 10 / 0\n",
    "except ZeroDivisionError:\n",
    "    print(\"Cannot divide by zero.\")\n",
    "```\n",
    "\n",
    "These are just some of the fundamental elements of Python syntax. Following these rules will help you write clean and functional Python code."
   ]
  },
  {
   "cell_type": "markdown",
   "metadata": {
    "id": "esSfq86bhTJZ",
    "tags": []
   },
   "source": [
    "# **You can read and write text file in Python:**\n",
    "\n",
    "```python\n",
    "# Writing to a text file\n",
    "with open('example.txt', 'w') as file:\n",
    "    file.write(\"Hello, this is some text that we're writing to the file.\\n\")\n",
    "    file.write(\"Writing multiple lines.\\n\")\n",
    "    file.write(\"Goodbye!\")\n",
    "\n",
    "# Reading from a text file\n",
    "with open('example.txt', 'r') as file:\n",
    "    content = file.read()\n",
    "    print(content)\n",
    "\n",
    "# Reading line by line\n",
    "with open('example.txt', 'r') as file:\n",
    "    lines = file.readlines()\n",
    "    for line in lines:\n",
    "        print(line.strip())  # Using strip() to remove newline characters\n",
    "```\n",
    "\n",
    "In this example, a file named \"example.txt\" is created and written to. Then, it's opened for reading, and its contents are either read in one go or line by line.\n",
    "\n",
    "Remember to replace `'example.txt'` with the actual path to the file you want to read from or write to. The `'w'` mode is for writing, and it will overwrite the file if it already exists. If you want to append to the file instead, you can use the `'a'` mode.\n",
    "\n",
    "Always make sure to close the file after you're done using it. In the examples above, the `with` statement is used to automatically close the file when the block of code is exited."
   ]
  },
  {
   "cell_type": "markdown",
   "metadata": {},
   "source": [
    "---"
   ]
  },
  {
   "cell_type": "markdown",
   "metadata": {},
   "source": [
    "# Python Operators"
   ]
  },
  {
   "cell_type": "markdown",
   "metadata": {
    "id": "ly3bO4_6btCu"
   },
   "source": [
    "Python supports a wide range of operations that you can perform on different types of data, including numbers, strings, lists, dictionaries, and more. Here are some common types of operations you can perform in Python:\n",
    "\n",
    "1. **Arithmetic Operations:**\n",
    "   - Addition: `+`\n",
    "   - Subtraction: `-`\n",
    "   - Multiplication: `*`\n",
    "   - Division: `/`\n",
    "   - Integer Division: `//` (returns the quotient as an integer)\n",
    "   - Modulus: `%` (returns the remainder)\n",
    "   - Exponentiation: `**`\n",
    "\n",
    "2. **Comparison Operations:**\n",
    "   - Equal to: `==`\n",
    "   - Not equal to: `!=`\n",
    "   - Greater than: `>`\n",
    "   - Less than: `<`\n",
    "   - Greater than or equal to: `>=`\n",
    "   - Less than or equal to: `<=`"
   ]
  },
  {
   "cell_type": "markdown",
   "metadata": {},
   "source": [
    "---"
   ]
  },
  {
   "cell_type": "markdown",
   "metadata": {
    "id": "cpfxu8PiXRdZ"
   },
   "source": [
    "# Import packages\n",
    "<url>https://docs.astropy.org/en/stable/</url><br>\n",
    "<url>https://matplotlib.org/</url><br>\n",
    "\n",
    "The astropy package contains key functionality and common tools needed for performing astronomy and astrophysics with Python."
   ]
  },
  {
   "cell_type": "code",
   "execution_count": null,
   "metadata": {
    "colab": {
     "base_uri": "https://localhost:8080/",
     "height": 741
    },
    "executionInfo": {
     "elapsed": 363,
     "status": "ok",
     "timestamp": 1692678631022,
     "user": {
      "displayName": "Kanthanakorn Noysena",
      "userId": "11835877694802408803"
     },
     "user_tz": -420
    },
    "id": "NJrHoFncbvRe",
    "outputId": "89fc52ca-5be0-4a0d-85ae-dd0f15e89b29"
   },
   "outputs": [],
   "source": [
    "# import the whole package\n",
    "import matplotlib.pyplot as plt\n",
    "import numpy as np\n",
    "\n",
    "plt.style.use('_mpl-gallery')\n",
    "\n",
    "# make the data\n",
    "np.random.seed(3)\n",
    "x = 4 + np.random.normal(0, 2, 24)\n",
    "y = 4 + np.random.normal(0, 2, len(x))\n",
    "# size and color:\n",
    "sizes = np.random.uniform(15, 80, len(x))\n",
    "colors = np.random.uniform(15, 80, len(x))\n",
    "\n",
    "# plot\n",
    "fig, ax = plt.subplots(figsize=(5, 5))\n",
    "\n",
    "ax.scatter(x, y, s=sizes, c=colors, vmin=0, vmax=100)\n",
    "\n",
    "ax.set(xlim=(0, 8), xticks=np.arange(1, 8),\n",
    "       ylim=(0, 8), yticks=np.arange(1, 8))\n",
    "\n",
    "plt.show()"
   ]
  },
  {
   "cell_type": "markdown",
   "metadata": {},
   "source": [
    "---"
   ]
  },
  {
   "cell_type": "code",
   "execution_count": 77,
   "metadata": {
    "executionInfo": {
     "elapsed": 605,
     "status": "ok",
     "timestamp": 1692676997639,
     "user": {
      "displayName": "Kanthanakorn Noysena",
      "userId": "11835877694802408803"
     },
     "user_tz": -420
    },
    "id": "KHDrxbgIX_R_"
   },
   "outputs": [],
   "source": [
    "# import only function we need\n",
    "from astropy.io import fits\n",
    "from astropy.wcs import WCS"
   ]
  },
  {
   "cell_type": "code",
   "execution_count": 87,
   "metadata": {
    "colab": {
     "base_uri": "https://localhost:8080/"
    },
    "executionInfo": {
     "elapsed": 23,
     "status": "ok",
     "timestamp": 1692677442935,
     "user": {
      "displayName": "Kanthanakorn Noysena",
      "userId": "11835877694802408803"
     },
     "user_tz": -420
    },
    "id": "cGOnXYd-aF_b",
    "outputId": "37760082-a80f-4e1e-cfc4-9fd62cd7eee3",
    "tags": []
   },
   "outputs": [
    {
     "name": "stdout",
     "output_type": "stream",
     "text": [
      "Filename: ASTRO101_data/ds9/NGC_3031_I_MIPS24_bgm2012.fits\n",
      "No.    Name      Ver    Type      Cards   Dimensions   Format\n",
      "  0  PRIMARY       1 PrimaryHDU      44   (1080, 2040)   float32   \n"
     ]
    }
   ],
   "source": [
    "# file we will work with\n",
    "image_file = \"ASTRO101_data/ds9/NGC_3031_I_MIPS24_bgm2012.fits\"\n",
    "\n",
    "# look at infomation\n",
    "fits.info(image_file)\n",
    "\n",
    "# obtain data and header\n",
    "image_data = fits.getdata(image_file)\n",
    "hdu = fits.getheader(image_file, ext=0)\n",
    "wcs = WCS(hdu)\n",
    "\n",
    "# print(image_data)\n",
    "# print(hdu)"
   ]
  },
  {
   "cell_type": "markdown",
   "metadata": {},
   "source": [
    "---"
   ]
  },
  {
   "cell_type": "markdown",
   "metadata": {},
   "source": [
    "# Plot in pixel coordinates"
   ]
  },
  {
   "cell_type": "code",
   "execution_count": null,
   "metadata": {
    "colab": {
     "base_uri": "https://localhost:8080/",
     "height": 783
    },
    "executionInfo": {
     "elapsed": 2562,
     "status": "ok",
     "timestamp": 1692677848816,
     "user": {
      "displayName": "Kanthanakorn Noysena",
      "userId": "11835877694802408803"
     },
     "user_tz": -420
    },
    "id": "CuD3jli3aMGX",
    "outputId": "b6d03d32-9099-448e-85d3-7cc9534bec27"
   },
   "outputs": [],
   "source": [
    "plt.figure(figsize=(5, 5))\n",
    "plt.imshow(image_data, cmap='gray', origin = 'lower', vmin=0, vmax = 1)\n",
    "plt.xlabel(\"X pixel\")\n",
    "plt.ylabel(\"Y pixel\")\n",
    "plt.title(\"NGC 3031\")\n",
    "plt.grid(False)\n",
    "plt.show()"
   ]
  },
  {
   "cell_type": "markdown",
   "metadata": {},
   "source": [
    "# Plot in equatorial coordinate system"
   ]
  },
  {
   "cell_type": "code",
   "execution_count": null,
   "metadata": {
    "colab": {
     "base_uri": "https://localhost:8080/",
     "height": 784
    },
    "executionInfo": {
     "elapsed": 3262,
     "status": "ok",
     "timestamp": 1692678516172,
     "user": {
      "displayName": "Kanthanakorn Noysena",
      "userId": "11835877694802408803"
     },
     "user_tz": -420
    },
    "id": "7148fAyVeSE0",
    "outputId": "ee06c6d9-7ef7-4d47-9db1-93f1cbf28bfa"
   },
   "outputs": [],
   "source": [
    "plt.figure(figsize=(5, 5))\n",
    "plt.subplot(projection=wcs)\n",
    "plt.imshow(image_data, cmap='gray', origin = 'lower', vmin=0, vmax = 1)\n",
    "plt.xlabel(\"RA\")\n",
    "plt.ylabel(\"Dec\")\n",
    "plt.title(\"NGC 3031\")\n",
    "plt.grid(False)\n",
    "plt.show()"
   ]
  },
  {
   "cell_type": "code",
   "execution_count": null,
   "metadata": {
    "colab": {
     "base_uri": "https://localhost:8080/",
     "height": 784
    },
    "executionInfo": {
     "elapsed": 1629,
     "status": "ok",
     "timestamp": 1692678541908,
     "user": {
      "displayName": "Kanthanakorn Noysena",
      "userId": "11835877694802408803"
     },
     "user_tz": -420
    },
    "id": "Mt5sS3qRcXG4",
    "outputId": "f095263c-c65e-43c4-8287-76a717d369d5"
   },
   "outputs": [],
   "source": [
    "plt.figure(figsize=(5, 10))\n",
    "plt.subplot(projection=wcs)\n",
    "plt.imshow(image_data, cmap='gray', origin = 'lower', vmin=0, vmax = 1)\n",
    "plt.xlabel(\"RA\")\n",
    "plt.ylabel(\"Dec\")\n",
    "plt.xlim(200, 800)\n",
    "plt.ylim(550, 1500)\n",
    "plt.title(\"NGC 3031: Zoom\")\n",
    "plt.grid(False)\n",
    "plt.show()"
   ]
  },
  {
   "cell_type": "markdown",
   "metadata": {
    "id": "o5Bbk4ofhR09"
   },
   "source": [
    "# **DS9**"
   ]
  },
  {
   "cell_type": "markdown",
   "metadata": {
    "id": "G3Lc0ywahUFH"
   },
   "source": [
    "Please: https://sites.google.com/cfa.harvard.edu/saoimageds9/documentation"
   ]
  }
 ],
 "metadata": {
  "colab": {
   "authorship_tag": "ABX9TyOiHsieSY4Q56Co3XImmTbX",
   "mount_file_id": "1knm0Qb9_TJHGxJeUdxx9crzOcFRLWhRa",
   "provenance": []
  },
  "kernelspec": {
   "display_name": "Python 3 (ipykernel)",
   "language": "python",
   "name": "python3"
  },
  "language_info": {
   "codemirror_mode": {
    "name": "ipython",
    "version": 3
   },
   "file_extension": ".py",
   "mimetype": "text/x-python",
   "name": "python",
   "nbconvert_exporter": "python",
   "pygments_lexer": "ipython3",
   "version": "3.11.4"
  }
 },
 "nbformat": 4,
 "nbformat_minor": 4
}
