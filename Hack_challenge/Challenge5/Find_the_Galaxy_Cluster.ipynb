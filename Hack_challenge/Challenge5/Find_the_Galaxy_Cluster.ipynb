{
  "nbformat": 4,
  "nbformat_minor": 0,
  "metadata": {
    "colab": {
      "provenance": []
    },
    "kernelspec": {
      "name": "python3",
      "display_name": "Python 3"
    },
    "language_info": {
      "name": "python"
    }
  },
  "cells": [
    {
      "cell_type": "markdown",
      "source": [
        "# **Hack Challenge 5:** #\n",
        "**Find the Galaxy Cluster**\n",
        "\n",
        "In this challenge your team have obtained the following data from SDSS DR17 catalog. The first table contain various photometric and spectroscopic data of all \"galaxies\" within 10x10 sq degree of the field. This includes spectroscopic and photometric redshifts.\n",
        "\n",
        "> Import the necessary packages and read in the table.\n",
        "\n",
        "> You may want to select only necessary columns (or not?).\n",
        "\n",
        "> **Hint** (Numpy, Matplotlib.pyplot)\n",
        "\n"
      ],
      "metadata": {
        "id": "3GRGjxpgvjxt"
      }
    },
    {
      "cell_type": "code",
      "source": [
        "\n",
        "import ...\n",
        "\n",
        "\n",
        "\n",
        "\n",
        "\n",
        "\n",
        "\n"
      ],
      "metadata": {
        "id": "nBaqiAJpwOX1"
      },
      "execution_count": null,
      "outputs": []
    },
    {
      "cell_type": "markdown",
      "source": [
        "Next, you may notice that the source with all the data (spectroscopic and photometric) are quite sparse. This is due to the fact that spectroscopy is costly and time consuming, not all the objects within this region get to be observed with a spectrograph.\n",
        "\n",
        "\n",
        "*   The other data file contains \"all\" the sources within 1x1 sq degree, which is our region of interest.\n",
        "*   Find the relation between photometric parameters given in the first table and spectroscopic redshift (specz).\n",
        "*   This could be done, with or without machine learning algorithm.\n",
        "*   Apply the relation to all the sources in the second table to find your \"Photo z\"."
      ],
      "metadata": {
        "id": "4iaMiZEdw-uj"
      }
    },
    {
      "cell_type": "code",
      "source": [
        "\n",
        "\n",
        "\n",
        "\n",
        "\n",
        "\n",
        "\n",
        "\n",
        "\n"
      ],
      "metadata": {
        "id": "_MWgNntmynxz"
      },
      "execution_count": null,
      "outputs": []
    },
    {
      "cell_type": "markdown",
      "source": [
        "The basic definition of galaxy cluster is \"an overdense region of galaxies\".\n",
        "So, find the area within 1x1 sq degree FOV which contain the source in the second table, which the galaxies clustering at certain redshift.\n",
        "\n",
        "\n",
        "*   This could be presented in density map along a slice of redshift range.\n",
        "*   Or, a bump in histogram of redshift.\n",
        "*   Or, a concentration of galaxies in a scatter plots in some parameters space.\n"
      ],
      "metadata": {
        "id": "mx4495KGysOr"
      }
    },
    {
      "cell_type": "code",
      "source": [
        "\n",
        "\n",
        "\n",
        "\n",
        "\n",
        "\n",
        "\n",
        "\n",
        "\n",
        "\n"
      ],
      "metadata": {
        "id": "KP0ocpg7zsYL"
      },
      "execution_count": null,
      "outputs": []
    },
    {
      "cell_type": "markdown",
      "source": [
        "Once you locate the cluster, please identify its BCG (Brightest Cluster Galaxy) and reshift of this said BCG.\n",
        "\n",
        "**Hint** Use \"np.where \" to select the group of galaxies that could be the galaxy cluster members. Then identify the brightest one among the group."
      ],
      "metadata": {
        "id": "heV_HXoOzrsG"
      }
    },
    {
      "cell_type": "code",
      "source": [
        "\n",
        "\n",
        "\n",
        "\n",
        "\n",
        "\n",
        "\n",
        "\n",
        "\n"
      ],
      "metadata": {
        "id": "7Bh3PnC3z_0q"
      },
      "execution_count": null,
      "outputs": []
    },
    {
      "cell_type": "code",
      "source": [],
      "metadata": {
        "id": "looO5YY60Dtj"
      },
      "execution_count": null,
      "outputs": []
    }
  ]
}