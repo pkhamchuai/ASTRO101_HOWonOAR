{
 "cells": [
  {
   "cell_type": "markdown",
   "metadata": {},
   "source": [
    "# SED Fitting and Supernova Analysis Module \n",
    "\n",
    "**Lecturer:** Samaporn Tinyanont<br>\n",
    "**Jupyter Notebook Authors:** Samaporn Tinyanont\n",
    "\n",
    "This is a Jupyter notebook lesson taken from the NARIT HOWonOAR 2023.  \n",
    "\n",
    "\n",
    "## Objective\n",
    "Fit a black body function to multi-band photometry to measure the black body temperature, radius, and luminosity. Then reiterate this process to derive a bolometric light curve for a supernova.\n",
    "\n",
    "## Key steps\n",
    "- Plot spectral energy distribution (SED)\n",
    "- Write a function that produce black body flux as a function of temperature and radius\n",
    "- Use scipy curve fit to fit this function to provided data\n",
    "- Reiterate this process for the entire light curve to make a bolometric light curve\n",
    "\n",
    "## Required dependencies\n",
    "\n",
    "See GROWTH school webpage for detailed instructions on how to install these modules and packages.  Nominally, you should be able to install the python modules with `pip install <module>`.  The external astromatic packages are easiest installed using package managers (e.g., `rpm`, `apt-get`).\n",
    "\n",
    "### Python modules\n",
    "* python 3\n",
    "* astropy\n",
    "* numpy\n",
    "* matplotlib\n",
    "* scipy\n",
    "\n",
    "### External packages\n",
    "None"
   ]
  },
  {
   "cell_type": "code",
   "execution_count": null,
   "metadata": {},
   "outputs": [],
   "source": [
    "import numpy as np\n",
    "\n",
    "%matplotlib inline\n",
    "import matplotlib.pyplot as plt\n",
    "import os\n",
    "\n",
    "import astropy.constants as const\n",
    "import astropy.units as u\n",
    "import astropy.io.ascii as asci\n",
    "\n",
    "from scipy.optimize import curve_fit\n"
   ]
  },
  {
   "cell_type": "markdown",
   "metadata": {},
   "source": [
    "## Load up the data and plot multi-band light curves"
   ]
  },
  {
   "cell_type": "code",
   "execution_count": null,
   "metadata": {},
   "outputs": [],
   "source": [
    "data_dir = '/ltzfs/ASTRO101/home/astro02/ASTRO101_data/SED_fitting/data'"
   ]
  },
  {
   "cell_type": "markdown",
   "metadata": {},
   "source": [
    "Load the provided multi-band light curve\n",
    "\n",
    "First, we need to load our supernova light curve in many bands. In this case, the light curve is simplified and every epoch has data in every band. \n",
    "\n",
    "This file contains light curves in gri bands of SN 2015bn, obtained by the Las Cumbres Observatory. The data are taken from https://github.com/mnicholl/superbol/blob/master/example/2015bn_abs_ugriz.txt"
   ]
  },
  {
   "cell_type": "code",
   "execution_count": null,
   "metadata": {
    "scrolled": true
   },
   "outputs": [],
   "source": [
    "# Load up our data and print it in the table format\n",
    "\n",
    "sn_light_curve = asci.read(data_dir+'/2015bn_simplified.txt')\n",
    "sn_light_curve.show_in_notebook()"
   ]
  },
  {
   "cell_type": "code",
   "execution_count": null,
   "metadata": {},
   "outputs": [],
   "source": [
    "#You can select specific columns like so\n",
    "sn_light_curve['epoch', 'g']"
   ]
  },
  {
   "cell_type": "code",
   "execution_count": null,
   "metadata": {},
   "outputs": [],
   "source": [
    "#You can also dice the table to select desired row in many ways:\n",
    "sn_light_curve[[0,1, 5, 6]]"
   ]
  },
  {
   "cell_type": "code",
   "execution_count": null,
   "metadata": {},
   "outputs": [],
   "source": [
    "sn_light_curve[sn_light_curve['epoch'] < 0] #select all rows where the column epoch is < 0\n",
    "# in general, in the bracket parenthesis can be any boolean array with the same length as the table\n",
    "# and you will get the rows for which this boolean array value is True"
   ]
  },
  {
   "cell_type": "code",
   "execution_count": null,
   "metadata": {},
   "outputs": [],
   "source": [
    "# Plot the light curve in different bands using different colors to mark different bands. \n",
    "# Take care to invert the y axis so that small magnitude (bright) is on top\n",
    "\n",
    "plt.errorbar(sn_light_curve['epoch'], sn_light_curve['g'], yerr = sn_light_curve['gerr'], marker = 'o', color = 'g', label = 'g')\n",
    "plt.errorbar(sn_light_curve['epoch'], ???, yerr = ???, marker = 'o', color = 'r', label = 'r')\n",
    "plt.errorbar(sn_light_curve['epoch'], ???, yerr = ???, marker = 'o', color = 'c', label = 'i')\n",
    "\n",
    "plt.legend()\n",
    "\n",
    "plt.gca().invert_yaxis()\n",
    "\n",
    "plt.xlabel('Days from peak')\n",
    "plt.ylabel('Absolute magnitude')\n",
    "\n",
    "plt.title('SN 2015bn')"
   ]
  },
  {
   "cell_type": "markdown",
   "metadata": {},
   "source": [
    "Here, you can see a typical light curve of a supernova: quick rise to a peak, then a long decline. This supernova is a rare subtype called a \"superluminous\" supernova, and this particular object is one of the best studied. \n",
    "\n",
    "These three light curves show the photometric evolution of this supernova in three different filters. In the next steps, we will estimate the bolometric light curve of this object. "
   ]
  },
  {
   "cell_type": "markdown",
   "metadata": {},
   "source": [
    "## Spectral Energy Distribution\n",
    "\n",
    "A spectral energy distribution, or SED, is sort of a spectrum but with a very low resolution made with only a few filters. While it cannot show detailed spectral features like lines from different elements, it can be used to measure  the overall shape of the continuum, which is temperature dependent.   \n",
    "\n",
    "Let's plot SED from three different epochs to see the temperature evolution of SN 2015bn. These three epochs selected represent early time, at peak, and late time SED of the supernova.  "
   ]
  },
  {
   "cell_type": "code",
   "execution_count": null,
   "metadata": {},
   "outputs": [],
   "source": [
    "# First we define the three epochs we're interested in\n",
    "epoch1 = sn_light_curve['epoch'] == -26.41 #this is just the first epoch\n",
    "epoch2 = sn_light_curve['epoch'] == ??? #pick something close to peak\n",
    "epoch3 = sn_light_curve['epoch'] == ??? #pick something else at later times"
   ]
  },
  {
   "cell_type": "code",
   "execution_count": null,
   "metadata": {},
   "outputs": [],
   "source": [
    "# We now need to obtain the wavelength of these filters\n",
    "# Again, SVO filter service is very useful: http://svo2.cab.inta-csic.es/theory/fps/index.php?mode=browse&gname=LasCumbres\n",
    "# Here, we use lambda_mean in Angstrom\n",
    "\n",
    "g_wave = 4749.16\n",
    "r_wave = ???\n",
    "i_wave = ???"
   ]
  },
  {
   "cell_type": "code",
   "execution_count": null,
   "metadata": {},
   "outputs": [],
   "source": [
    "# Now we can plot the SED for each epoch\n",
    "\n",
    "plt.errorbar([g_wave, r_wave, i_wave], \\\n",
    "             [sn_light_curve['g'][epoch1][0], sn_light_curve['r'][epoch1][0], sn_light_curve['i'][epoch1][0]], \\\n",
    "             yerr = [sn_light_curve['gerr'][epoch1][0], sn_light_curve['rerr'][epoch1][0], sn_light_curve['ierr'][epoch1][0]], \\\n",
    "            label = '-26.41 d')\n",
    "\n",
    "plt.errorbar(???) #Do this for epoch 2\n",
    "\n",
    "plt.errorbar(???) #Do this for epoch 3\n",
    "\n",
    "plt.legend()\n",
    "plt.xlabel('Wavelength ($\\AA$)')\n",
    "plt.ylabel('Absolute Magnitude')\n",
    "plt.gca().invert_yaxis()"
   ]
  },
  {
   "cell_type": "markdown",
   "metadata": {},
   "source": [
    "What do you see? Try plotting different epochs as well and see if you can notice the evolution of the SED shape. "
   ]
  },
  {
   "cell_type": "markdown",
   "metadata": {},
   "source": [
    "## Measuring temperature from the SED\n",
    "\n",
    "We can fit an SED with the black body function to derive the temperature. This method assumes that the source emits like a black body, with no spectral features. In general, this works well for sources where spectral lines do not dominate the overall emission. For instance, supernovae near peak are very well explained by a black body. Old supernovae, on the ohter hands, have many strong emission lines; this makes the black body approximation less appropriate. For now, let's assume that a black body explains our SN 2015bn. "
   ]
  },
  {
   "cell_type": "code",
   "execution_count": null,
   "metadata": {},
   "outputs": [],
   "source": [
    "# First, we will write a helper function that takes an epoch of SN 2015bn light curve and gives us the SED. \n",
    "# Note that the code for the last plot looks very messy, and we don't want to have to do this every time. \n",
    "\n",
    "# We want a function that will take the desired epoch, say -26.41 day from the first epoch we used for the last plot, \n",
    "# and return two arrays: one with gri photometry and one with gri uncertainty.\n",
    "# We should be able to recreate the last plot using two arrays from this function. \n",
    "\n",
    "# This function should also check if the input epoch has any data in it, and returns None if not.\n",
    "\n",
    "def get_SED_from_epoch(desired_epoch):\n",
    "    \"\"\"\n",
    "    This function takes the epoch of observation and returns g, r, i photometry and uncertainties in \n",
    "    appropriate arrays.\n",
    "    \"\"\"\n",
    "    epoch = sn_light_curve['epoch'] == desired_epoch\n",
    "    if np.sum(epoch) == 1:\n",
    "        SED_at_epoch = np.array([???]) #Hint: just follow what was used in making the plot above.\n",
    "        Err_at_epoch = np.array([???])\n",
    "        return SED_at_epoch, Err_at_epoch\n",
    "    else:\n",
    "        print(\"This epoch has no data.\")\n",
    "        return None"
   ]
  },
  {
   "cell_type": "code",
   "execution_count": null,
   "metadata": {},
   "outputs": [],
   "source": [
    "# We will also define an array with wavelength so we don't have to rewrite that every time. \n",
    "wl_array = np.array([g_wave, r_wave, i_wave])"
   ]
  },
  {
   "cell_type": "code",
   "execution_count": null,
   "metadata": {},
   "outputs": [],
   "source": [
    "# Now let's use this to recreate the SED from -26.41 day\n",
    "\n",
    "SED_at_epoch, Err_at_epoch = get_SED_from_epoch(-26.41)\n",
    "\n",
    "plt.errorbar(wl_array, SED_at_epoch, yerr = Err_at_epoch)\n",
    "    \n",
    "plt.xlabel('Wavelength ($\\AA$)')\n",
    "plt.ylabel('Absolute Magnitude')\n",
    "plt.gca().invert_yaxis()"
   ]
  },
  {
   "cell_type": "markdown",
   "metadata": {},
   "source": [
    "## Convert absolute magnitude to specific flux and wavelength to frequency\n",
    "\n",
    "Recall that the AB magnitude scale means that an object with mag = 0 has a specific flux of $F_{\\nu, 0} = 3631$ Jy. For an apparent magnitude, you can compute the observed flux from $F_\\nu = F_{\\nu, 0} 10^{-{\\rm mag}/2.5}$. If the given magnitude is an absolute magnitude, this is an observed flux for a hypothetical observer located 10 parsec from the source. "
   ]
  },
  {
   "cell_type": "code",
   "execution_count": null,
   "metadata": {},
   "outputs": [],
   "source": [
    "#Quick astropy constant and unit tutorial: Let's compute E = m c^2 for 1 gram of mass\n",
    "\n",
    "E = 1*u.g * const.c**2\n",
    "print(E)\n",
    "\n",
    "#You can do unit conversion like this:\n",
    "print(E.to(u.J))\n",
    "\n",
    "#You can also convert this back to a normal number\n",
    "print(E.to(u.J).value)"
   ]
  },
  {
   "cell_type": "code",
   "execution_count": null,
   "metadata": {},
   "outputs": [],
   "source": [
    "#Write a function that takes the absolute AB magnitude and converts to flux unit\n",
    "def mag2flux(mag, magerr):\n",
    "    flux = ??? #write a python version of the equation above. Use u.Jy to denote the unit. \n",
    "    fluxerr = np.abs(flux * np.log(10)/2.5 * magerr) #Extra credit: derive this!\n",
    "    return flux, fluxerr"
   ]
  },
  {
   "cell_type": "code",
   "execution_count": null,
   "metadata": {},
   "outputs": [],
   "source": [
    "#test out this function\n",
    "mag2flux(SED_at_epoch, Err_at_epoch)\n",
    "\n",
    "Flux_at_epoch, FluxErr_at_epoch = mag2flux(SED_at_epoch, Err_at_epoch)\n",
    "print(Flux_at_epoch, FluxErr_at_epoch)"
   ]
  },
  {
   "cell_type": "code",
   "execution_count": null,
   "metadata": {},
   "outputs": [],
   "source": [
    "#Now convert the wavelength array to frequency. We will get to use this soon. \n",
    "nu_array = ??? #use the astropy constant and unit package here as well\n",
    "\n",
    "# You can convert unit like this:\n",
    "nu_array.to(u.Hz)"
   ]
  },
  {
   "cell_type": "markdown",
   "metadata": {},
   "source": [
    "## Black body radiation\n",
    "\n",
    "The topic of black body radiation takes a good amount of time to explain. After all, this is one of the key issues that started quantum mechanics. In a nutshell, black body radiation is the spectrum you get from a perfect body that can absorb all light and reemit the energy via thermal radiation. The specific intensity of this spectrum is explained by the Planck function:\n",
    "\n",
    "$B_\\nu = \\dfrac{2 h \\nu^3}{c^2} \\dfrac{1}{ e^{h \\nu / k_B T} - 1} $"
   ]
  },
  {
   "cell_type": "code",
   "execution_count": null,
   "metadata": {},
   "outputs": [],
   "source": [
    "#Uncomment the line below to see all the constants available:\n",
    "#const?"
   ]
  },
  {
   "cell_type": "code",
   "execution_count": null,
   "metadata": {},
   "outputs": [],
   "source": [
    "# Write a function that takes frequency nu and temperature T and outputs B_nu\n",
    "\n",
    "def Bnu(nu, T):\n",
    "    \"\"\"\n",
    "    Here, use astropy units and constants to your advantage so that unit conversion is taken care of\n",
    "    \"\"\"\n",
    "    return ??? #Planck function goes here. Use the const? above to see the names for all the constants. "
   ]
  },
  {
   "cell_type": "code",
   "execution_count": null,
   "metadata": {},
   "outputs": [],
   "source": [
    "# Let's try out your function for 10,000 K\n",
    "Bnu(nu_array, 10000*u.K)"
   ]
  },
  {
   "cell_type": "markdown",
   "metadata": {},
   "source": [
    "We can now convert the specific intensity to flux. We discussed this briefly in the previous lecture on photometry, but in brief, for an isotropically emitting body, the flux at the surface of the object with radius $R$ is $F_{\\nu, \\rm surface} = \\pi I_\\nu$. In this case for black body radiation, $I_\\nu$ is just the Planck function, so $F_{\\nu, \\rm surface} = \\pi B_\\nu $\n",
    "\n",
    "At any distance $d > R$, the flux decreases according to the inverse square law: $F_\\nu(d) = F_{\\nu, \\rm surface} \\frac{R^2}{d^2} $"
   ]
  },
  {
   "cell_type": "code",
   "execution_count": null,
   "metadata": {},
   "outputs": [],
   "source": [
    "# Write a function that takes frequency nu, temperature T, and black body radius R and gives the flux at \n",
    "# a distance d, default to 10 parsec\n",
    "def Fnu(nu, T, R, d = 10*u.pc):\n",
    "    return ??? #This should be F_nu(d) from the equation above. You should call the Bnu function above."
   ]
  },
  {
   "cell_type": "code",
   "execution_count": null,
   "metadata": {},
   "outputs": [],
   "source": [
    "#Test this function for R = 1e5 Rsun. Convert the unit to Jy.\n",
    "#use a finer wavelength array\n",
    "\n",
    "wlwl = np.linspace(3000,9000,10000)\n",
    "nunu = const.c/(wlwl*u.angstrom)\n",
    "\n",
    "Fnu(nunu, 10000*u.K, 1e5*u.R_sun).to(u.Jy)"
   ]
  },
  {
   "cell_type": "code",
   "execution_count": null,
   "metadata": {},
   "outputs": [],
   "source": [
    "#Now make a plot comparing this black body curve to the flux of SN 2015bn\n",
    "#Use wavelength in the x axis. Optical/IR astronomers dislike frequency!\n",
    "\n",
    "#Here, you should tweak the temperature and radius to get the number similar to the observation.\n",
    "#This does not have to be perfect, just close. \n",
    "\n",
    "T_guess = 10000*u.K\n",
    "R_guess = 1e5*u.R_sun\n",
    "\n",
    "plt.plot(wlwl ,Fnu(nunu, T_guess, R_guess).to(u.Jy), '-')\n",
    "plt.errorbar(wl_array, Flux_at_epoch, FluxErr_at_epoch, marker = 'o')\n",
    "\n",
    "plt.xlabel('Wavelength ($\\AA$)')\n",
    "plt.ylabel(r'$F_\\nu$ (Jy)')"
   ]
  },
  {
   "cell_type": "markdown",
   "metadata": {},
   "source": [
    "## Finally, actually fit the black body function to our data"
   ]
  },
  {
   "cell_type": "markdown",
   "metadata": {},
   "source": [
    "We are almost at the end (of part 1)! Here, we will use a function fitting routine from scipy called curve_fit. Documentation for this routine can be found here: https://docs.scipy.org/doc/scipy/reference/generated/scipy.optimize.curve_fit.html\n",
    "\n",
    "In short, it takes a function f that has a form f(x, a, b, c,...) where x is the independent variable (wavelenght or frequency here) and a, b, c, ... are parameters we are trying to fit. It also takes the independent and depedent variables x and y (here wavelength/frequency and flux), then it tries to adjust a, b, c, ... to make f(x, a, b, c, ...) as close as y as possible. "
   ]
  },
  {
   "cell_type": "code",
   "execution_count": null,
   "metadata": {},
   "outputs": [],
   "source": [
    "#We have to define the function to fit. This should be very similar to Fnu above, but for convenience, let it take\n",
    "#wavelenght as x, and have T and R as the adjustable parameters\n",
    "\n",
    "#Another quirk is that curve_fit cannot deal with astropy units. So let's give it just numerical value and we add \n",
    "#the units inside the function. Similarly, we also have to return a unitless number in Jansky\n",
    "\n",
    "def Fnu_to_fit(wl, T, R):\n",
    "    nu = const.c/(wl*u.angstrom)\n",
    "    T = T*u.K\n",
    "    R = R*u.R_sun\n",
    "    \n",
    "    flux = Fnu(nu, T, R)\n",
    "    return flux.to(u.Jy).value\n",
    "\n",
    "#Clearly define x and y and y_err for curve fit\n",
    "x = ???\n",
    "y = ???\n",
    "y_err = ???\n",
    "\n",
    "#Call curve_fit. Note that we use T_guess and R_guess as the initial value for the function.\n",
    "\n",
    "result, covariance = curve_fit(Fnu_to_fit, x, y, sigma = y_err, absolute_sigma = True, p0 = (T_guess, R_guess))"
   ]
  },
  {
   "cell_type": "code",
   "execution_count": null,
   "metadata": {},
   "outputs": [],
   "source": [
    "#Show the result\n",
    "print(result)\n",
    "print(covariance)"
   ]
  },
  {
   "cell_type": "markdown",
   "metadata": {},
   "source": [
    "Here, the list result contains the best-fit value for our two parameters, T and R in the units of Kelvin and Rsun. The covariance matrix gives us the estimates of the variance of the two parameters. "
   ]
  },
  {
   "cell_type": "code",
   "execution_count": null,
   "metadata": {},
   "outputs": [],
   "source": [
    "best_T = result[0] * u.K\n",
    "best_R = result[1] * u.R_sun\n",
    "T_err = np.sqrt(np.diag(covariance))[0] *u.K\n",
    "R_err = np.sqrt(np.diag(covariance))[1] *u.R_sun"
   ]
  },
  {
   "cell_type": "code",
   "execution_count": null,
   "metadata": {},
   "outputs": [],
   "source": [
    "print(\"The best fit temperature is %d +- %d K\"%(best_T.value, T_err.value))\n",
    "print(\"The best fit radius is %e +- %e Rsun\"%(best_R.value, R_err.value))"
   ]
  },
  {
   "cell_type": "code",
   "execution_count": null,
   "metadata": {},
   "outputs": [],
   "source": [
    "#Remake the last plot, but also with the best fit value\n",
    "\n",
    "plt.plot(wlwl ,Fnu(nunu, T_guess, R_guess).to(u.Jy), ':', label = 'First Guess')\n",
    "plt.plot(wlwl ,Fnu(nunu, best_T, best_R).to(u.Jy), '-', label = 'Best Fit')\n",
    "\n",
    "plt.errorbar(wl_array, Flux_at_epoch, FluxErr_at_epoch, marker = 'o', label = 'Data')\n",
    "\n",
    "plt.legend()\n",
    "\n",
    "plt.xlabel('Wavelength ($\\AA$)')\n",
    "plt.ylabel(r'$F_\\nu$ (Jy)')"
   ]
  },
  {
   "cell_type": "markdown",
   "metadata": {},
   "source": [
    "From the temperature and radius, we can calculate the black body luminosity via $L = 4 \\pi R^2 \\sigma T^4$ where $\\sigma$ is the Stefan-Boltzmann constant. You get this by integrating $\\pi B_\\nu$ from $\\nu = 0$ to $\\infty$. See https://en.wikipedia.org/wiki/Stefan%E2%80%93Boltzmann_law"
   ]
  },
  {
   "cell_type": "code",
   "execution_count": null,
   "metadata": {},
   "outputs": [],
   "source": [
    "#Write a function to compute black body luminosity and uncertainty given T and R\n",
    "\n",
    "def blackbodyL(best_T,best_R,T_err, R_err):\n",
    "    L_bb = ??? #again, use the function above\n",
    "    L_bb_err = np.sqrt( (8*np.pi*best_R*const.sigma_sb*best_T**4 * R_err)**2 + \\\n",
    "                       (16*np.pi*best_R**2*const.sigma_sb*best_T**3 * T_err)**2) \n",
    "    return L_bb, L_bb_err\n",
    "\n",
    "L_bb, L_bb_err =  blackbodyL(best_T,best_R,T_err, R_err)"
   ]
  },
  {
   "cell_type": "code",
   "execution_count": null,
   "metadata": {},
   "outputs": [],
   "source": [
    "print(L_bb.to(u.erg/u.s))\n",
    "print(L_bb_err.to(u.erg/u.s))"
   ]
  },
  {
   "cell_type": "markdown",
   "metadata": {},
   "source": [
    "## Bolometric Light Curve\n",
    "\n",
    "You have done this for one epoch. Write a code that can loop through all the epochs of SN 2015bn and produce three plots showing the evolution of black body luminosity, temperature, and radius. This is one of the most basic task one has to do for a supernova study. These three plots allow you to see the evolution of the cataclysmic fireball from a dead star, and can be compared with theoretical models to learn about its nature. \n",
    "\n",
    "When you do this, think about the real observations. Usually, you don't have all the same filters observation every night. Maybe you have g and r for one night, and only r and i for the next. How do you deal with that? Some supernovae are hidden behind a dust cloud (recall our discussion on dust extinction). How do you deal with that? There are many more tehcniques astronomers use to deal with our often incomplete and sometimes downright terrible datasets. Stars and galaxies are far away and we can do nothing but look. \n"
   ]
  },
  {
   "cell_type": "code",
   "execution_count": null,
   "metadata": {},
   "outputs": [],
   "source": [
    "#There are many ways to do this. My favorite is to write a for loop going through different epochs we have,\n",
    "#fit for T and R, compute L, then save them into lists. "
   ]
  },
  {
   "cell_type": "code",
   "execution_count": null,
   "metadata": {},
   "outputs": [],
   "source": [
    "R = []\n",
    "T = []\n",
    "L = []\n",
    "dR = []\n",
    "dT = []\n",
    "dL = []\n",
    "\n",
    "for epoch in sn_light_curve['epoch']:\n",
    "    #Get the SED at this epoch\n",
    "    SED_at_epoch, Err_at_epoch = get_SED_from_epoch(epoch)\n",
    "    #Convert to flux\n",
    "    Flux_at_epoch, FluxErr_at_epoch = mag2flux(SED_at_epoch, Err_at_epoch)\n",
    "    \n",
    "    ##############\n",
    "    #Fill in the gut here. Compute T and R from curve_fit, then L\n",
    "    ##############\n",
    "    \n",
    "    R += [best_R.to(u.cm).value]\n",
    "    T += [best_T.to(u.K).value]\n",
    "    L += [best_L.to(u.erg/u.s).value]\n",
    "    \n",
    "    dR += [R_err.to(u.cm).value]\n",
    "    dT += [T_err.to(u.K).value]\n",
    "    dL += [L_err.to(u.erg/u.s).value]\n",
    "    "
   ]
  },
  {
   "cell_type": "code",
   "execution_count": null,
   "metadata": {},
   "outputs": [],
   "source": [
    "#Now we make the money plot, T L R as function of epoch\n",
    "plt.errorbar(sn_light_curve['epoch'], T, dT)\n",
    "plt.xlabel('Days from peak')\n",
    "plt.ylabel('Temperature (K)')"
   ]
  },
  {
   "cell_type": "code",
   "execution_count": null,
   "metadata": {},
   "outputs": [],
   "source": [
    "plt.errorbar(sn_light_curve['epoch'], L, dL)\n",
    "plt.xlabel('Days from peak')\n",
    "plt.ylabel('Luminosity (erg/s)')\n",
    "\n",
    "plt.yscale('log')"
   ]
  },
  {
   "cell_type": "code",
   "execution_count": null,
   "metadata": {},
   "outputs": [],
   "source": [
    "plt.errorbar(sn_light_curve['epoch'], R, dR)\n",
    "plt.xlabel('Days from peak')\n",
    "plt.ylabel('Blackbody Radius (cm)')"
   ]
  },
  {
   "cell_type": "markdown",
   "metadata": {},
   "source": [
    "## Compare this to the published result for this supernova in Figure 17: https://arxiv.org/abs/1603.04748"
   ]
  },
  {
   "cell_type": "code",
   "execution_count": null,
   "metadata": {},
   "outputs": [],
   "source": []
  }
 ],
 "metadata": {
  "kernelspec": {
   "display_name": "Python 3 (ipykernel)",
   "language": "python",
   "name": "python3"
  },
  "language_info": {
   "codemirror_mode": {
    "name": "ipython",
    "version": 3
   },
   "file_extension": ".py",
   "mimetype": "text/x-python",
   "name": "python",
   "nbconvert_exporter": "python",
   "pygments_lexer": "ipython3",
   "version": "3.11.4"
  }
 },
 "nbformat": 4,
 "nbformat_minor": 4
}
