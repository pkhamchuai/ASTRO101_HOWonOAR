{
 "cells": [
  {
   "cell_type": "markdown",
   "id": "dc553e5a-f305-4280-aba6-17f3ec24c563",
   "metadata": {},
   "source": [
    "<div class=\"alert alert-block alert-warning\">\n",
    "</div>"
   ]
  },
  {
   "cell_type": "markdown",
   "id": "f4308bb6-16c2-4349-876d-28f85655e953",
   "metadata": {},
   "source": [
    "<div class = \"alert alert-block alert-success\">\n",
    "    <b>Python Syntax</b>\n",
    "<div>\n",
    "    \n",
    "<ol>\n",
    "    <li>newline </li>\n",
    "    <li>Indentation</li>\n",
    "    <li>Variable</li>\n",
    "    <li>Comments: #</li>\n",
    "    <li>Operators: +, -, *, /</li>\n",
    "</ol>"
   ]
  },
  {
   "cell_type": "code",
   "execution_count": 1,
   "id": "023940d7-2628-490d-a011-b92188333361",
   "metadata": {},
   "outputs": [
    {
     "name": "stdout",
     "output_type": "stream",
     "text": [
      "5 3.14\n"
     ]
    }
   ],
   "source": [
    "# Variable\n",
    "x = 5   \n",
    "y = 3.14\n",
    "\n",
    "# display result with print\n",
    "print(x, y)"
   ]
  },
  {
   "cell_type": "code",
   "execution_count": 3,
   "id": "2202e3c7-b486-41ca-839b-6f36b30ff632",
   "metadata": {},
   "outputs": [
    {
     "name": "stdin",
     "output_type": "stream",
     "text": [
      "Enter:  Nu\n"
     ]
    },
    {
     "name": "stdout",
     "output_type": "stream",
     "text": [
      "Nu\n"
     ]
    }
   ],
   "source": [
    "#  input\n",
    "z = input(\"Enter: \")\n",
    "print(z)"
   ]
  },
  {
   "cell_type": "code",
   "execution_count": 4,
   "id": "483c7bed-3eb4-4562-8a90-6df9628f355a",
   "metadata": {},
   "outputs": [
    {
     "name": "stdout",
     "output_type": "stream",
     "text": [
      "5\n"
     ]
    }
   ],
   "source": [
    "# Operator\n",
    "ans = x + y\n",
    "print(x)"
   ]
  },
  {
   "cell_type": "code",
   "execution_count": 5,
   "id": "77413488-9d93-445d-9d00-ac6ddadb7c72",
   "metadata": {},
   "outputs": [
    {
     "name": "stdout",
     "output_type": "stream",
     "text": [
      "No\n"
     ]
    }
   ],
   "source": [
    "# Condition\n",
    "if x == z:\n",
    "    print(\"Yes\")\n",
    "else:\n",
    "    print(\"No\")"
   ]
  },
  {
   "cell_type": "code",
   "execution_count": 6,
   "id": "d6008039-309c-4cf9-858d-31df72dc2528",
   "metadata": {},
   "outputs": [
    {
     "name": "stdout",
     "output_type": "stream",
     "text": [
      "0\n",
      "1\n",
      "2\n",
      "3\n",
      "4\n",
      "3.14\n",
      "3.3400000000000003\n",
      "3.5400000000000005\n",
      "3.7400000000000007\n",
      "3.940000000000001\n",
      "4.140000000000001\n",
      "4.340000000000001\n",
      "4.540000000000001\n",
      "4.740000000000001\n",
      "4.940000000000001\n"
     ]
    }
   ],
   "source": [
    "# Loop\n",
    "for i in range(x):\n",
    "    print(i)\n",
    "\n",
    "while y < x:\n",
    "    print(y)\n",
    "    y += 0.2"
   ]
  },
  {
   "cell_type": "code",
   "execution_count": 7,
   "id": "ce384e18-cdef-4347-a0fb-fde906aaaa63",
   "metadata": {},
   "outputs": [
    {
     "name": "stdout",
     "output_type": "stream",
     "text": [
      "25\n"
     ]
    }
   ],
   "source": [
    "# function\n",
    "def myFunc(a,b):\n",
    "    c = a**2 + b**2\n",
    "    return c\n",
    "\n",
    "ans = myFunc(3,4)\n",
    "print(ans)"
   ]
  },
  {
   "cell_type": "markdown",
   "id": "b75471ed-4ad3-4489-bd14-855a430351f8",
   "metadata": {},
   "source": [
    "<div class = \"alert alert-block alert-warning\">\n",
    "</div>"
   ]
  },
  {
   "cell_type": "markdown",
   "id": "499539f7-494a-40bc-a9bc-dd551fb881e6",
   "metadata": {},
   "source": [
    "Python variables"
   ]
  },
  {
   "cell_type": "code",
   "execution_count": 4,
   "id": "f6d570b8-beac-45d4-8aaa-f468c10c83eb",
   "metadata": {},
   "outputs": [
    {
     "name": "stdout",
     "output_type": "stream",
     "text": [
      "K,a,n,t,h,a,n,a,k,o,r,n,"
     ]
    }
   ],
   "source": [
    "myFirstName = \"Kanthanakorn\"\n",
    "MyLastName = \"Noysena\"\n",
    "my_nick_name = \"Nu\"\n",
    "\n",
    "# Indentation\n",
    "for i in myFirstName:\n",
    "    print(i, end=',') # Code block"
   ]
  },
  {
   "cell_type": "code",
   "execution_count": 8,
   "id": "e0252669-6f2e-4182-8734-83eb35a98a85",
   "metadata": {},
   "outputs": [
    {
     "name": "stdout",
     "output_type": "stream",
     "text": [
      "10 3.14 True\n",
      "John\n"
     ]
    }
   ],
   "source": [
    "x = 10\n",
    "y = 3.14\n",
    "z = True\n",
    "name = \"John\"\n",
    "\n",
    "# print\n",
    "print(x, y, z)\n",
    "print(name)"
   ]
  },
  {
   "cell_type": "markdown",
   "id": "99927296-af8a-4023-bc70-f7b3dc2d14cb",
   "metadata": {},
   "source": [
    "Python operations <br>\n",
    "<i>PEMDAS</i>\n",
    "* Parenthetic subexpressions: ()\n",
    "* Exponentiation: **\n",
    "* Multiplication and Division: * & /\n",
    "* Addition and Subtraction: + & -\n",
    "\n",
    "<i>ตัวดำเนินการทางตรรกะ - Assignment Operators</i>\n",
    "* \"==\"\n",
    "* \"!=\"\n",
    "* \">\"\n",
    "* \"<\"\n",
    "* \">=\"\n",
    "* \"<=\""
   ]
  },
  {
   "cell_type": "code",
   "execution_count": 16,
   "id": "3d30bebf-0371-45e2-84b7-f1ba5c732fa9",
   "metadata": {},
   "outputs": [
    {
     "name": "stdout",
     "output_type": "stream",
     "text": [
      "11.85\n",
      "99996.85\n",
      "15.873015873015873\n",
      "11.85\n",
      "True\n"
     ]
    }
   ],
   "source": [
    "x = 10\n",
    "y = 5.0\n",
    "z = 3.15\n",
    "\n",
    "# Parenthetic subexpressions\n",
    "ans = (x + y) - z\n",
    "print(ans)\n",
    "\n",
    "# Exponentiation\n",
    "ans = x**y - z\n",
    "print(ans)\n",
    "\n",
    "# Multiplication and Division\n",
    "ans = x*y / z\n",
    "print(ans)\n",
    "\n",
    "# Addition and Subtraction\n",
    "ans = x + (y - z)\n",
    "print(ans)\n",
    "\n",
    "# Assignment Operators --> True or False\n",
    "print(ans > 0)"
   ]
  },
  {
   "cell_type": "code",
   "execution_count": 9,
   "id": "43f657ee-93d5-41fb-8025-0b8d0faf452d",
   "metadata": {},
   "outputs": [
    {
     "name": "stdout",
     "output_type": "stream",
     "text": [
      "0.6666666666666665\n"
     ]
    }
   ],
   "source": [
    "# What is the result of this?\n",
    "ans = 1 ** 2 + 3 - 4 * 5 / 6\n",
    "print(ans)"
   ]
  },
  {
   "cell_type": "raw",
   "id": "c98a37e6-3cce-4e5a-ad88-7c24e00f9236",
   "metadata": {
    "jupyter": {
     "source_hidden": true
    },
    "tags": []
   },
   "source": [
    "# จงพิจารณาผลลัพธ์นี้\n",
    "ans = (1**2) + 3 - ((4 * 5) / 6)\n",
    "print(ans)"
   ]
  },
  {
   "cell_type": "code",
   "execution_count": 20,
   "id": "270d4cf0-f045-44c0-bfd1-ed23a89318c4",
   "metadata": {
    "tags": []
   },
   "outputs": [
    {
     "name": "stdout",
     "output_type": "stream",
     "text": [
      "ระยะห่างระหว่างโลกกับดวงจันทร์ เท่ากับ 384400000 meters.\n"
     ]
    }
   ],
   "source": [
    "# Earth Moon distance 384,400 kilometers\n",
    "Earth_Moon_distance_km = 384400\n",
    "\n",
    "# Convert the distance to meters\n",
    "distance_m = Earth_Moon_distance_km * 1000\n",
    "\n",
    "# Print the distance in meters\n",
    "print(\"Earth-Moon distance: \", distance_m, \"meters.\")"
   ]
  },
  {
   "cell_type": "code",
   "execution_count": 21,
   "id": "312cc0b3-8ca9-4362-b3d6-b1b53eca130a",
   "metadata": {},
   "outputs": [
    {
     "name": "stdout",
     "output_type": "stream",
     "text": [
      "ระยะห่างระหว่างโลกกับดวงดวงอาทิตย์ เท่ากับ 149600000000 meters.\n",
      "ระยะห่างระหว่างโลกกับดวงดวงอาทิตย์ เท่ากับ 149600000 kilometers.\n",
      "ระยะทางโลกกับดวงจันทร์ มากกว่า โลกกับดวงอาทิตย์ False\n"
     ]
    }
   ],
   "source": [
    "# What is Earth Sun in meter\n",
    "Earth_Sun_distance_km = 149600000 # Could use 149.6e6\n",
    "\n",
    "# Convert to meter\n",
    "distance_m = Earth_Sun_distance_km * 1000\n",
    "\n",
    "# Result in meters\n",
    "print(\"Earth-Sun distance: \", distance_m, \"meters.\")\n",
    "\n",
    "# Result in kilometers\n",
    "print(\"Earth-Sun distance: \", Earth_Sun_distance_km, \"kilometers.\")\n",
    "\n",
    "# Comparison True / False\n",
    "print(Earth_Moon_distance_km > Earth_Sun_distance_km)"
   ]
  },
  {
   "cell_type": "markdown",
   "id": "b8e20f3b-802c-4a9c-bc44-be9e8e784cbd",
   "metadata": {},
   "source": [
    "---"
   ]
  },
  {
   "cell_type": "markdown",
   "id": "0e9f4303-0c6d-4504-978e-c15f511c212a",
   "metadata": {},
   "source": [
    "<b>What is 1 parsec (pc) and 1 light year (ly) in meters:</b> <br>\n",
    "<i>If 1 parsec (pc) = 206265 AU and AU is the unit of distance between Earth and Sun</i> <br>\n",
    "<i>1 pc ≈ 3.26 ly </i>"
   ]
  },
  {
   "cell_type": "code",
   "execution_count": 10,
   "id": "0e585ea3-fa65-46a4-adb7-a6ef815357ea",
   "metadata": {},
   "outputs": [
    {
     "name": "stdout",
     "output_type": "stream",
     "text": [
      "ระยะทาง 1 pc เท่ากับ  meters.\n",
      "\n"
     ]
    }
   ],
   "source": [
    "# 1 pc ?\n",
    "Earth_Sun_distance_km = 149600000\n",
    "distance_m = \"\"\n",
    "print(\"ระยะทาง 1 pc เท่ากับ\", distance_m, \"meters.\")\n",
    "\n",
    "\n",
    "print()"
   ]
  },
  {
   "cell_type": "raw",
   "id": "4eedcbb5-c2ed-42a1-b468-5092f96ecc5c",
   "metadata": {
    "jupyter": {
     "source_hidden": true
    },
    "tags": []
   },
   "source": [
    "# ระยะทาง 1 pc หาได้จาก\n",
    "Earth_Sun_distance_km = 149600000\n",
    "distance_m = Earth_Sun_distance_km * 1000 * 206265\n",
    "\n",
    "print(\"ระยะทาง 1 pc เท่ากับ\", distance_m, \"meters.\")\n",
    "print(\"ระยะทาง 1 ly เท่ากับ\", distance_m / 3.26, \"meters.\")\n",
    "print()\n",
    "print(\"{:.3e} เมตร\".format(distance_m))\n",
    "print(\"{:.3e} เมตร\".format(distance_m/3.26))"
   ]
  },
  {
   "cell_type": "code",
   "execution_count": 26,
   "id": "c3672d54-d772-4ef9-b7fa-0e7e26fa0081",
   "metadata": {
    "tags": []
   },
   "outputs": [
    {
     "data": {
      "image/png": "[encoded data removed]",
      "text/plain": [
       "<Figure size 576x432 with 1 Axes>"
      ]
     },
     "metadata": {
      "needs_background": "light"
     },
     "output_type": "display_data"
    }
   ],
   "source": [
    "# Kepler's first law, also known as the law of elliptical orbits,\n",
    "# states that planets move in elliptical orbits around the Sun\n",
    "\n",
    "import matplotlib.pyplot as plt\n",
    "import numpy as np\n",
    "\n",
    "# Define the semi-major axis in AU\n",
    "semi_major_axis = 2\n",
    "\n",
    "# Define the eccentricity\n",
    "eccentricity = 0.6\n",
    "\n",
    "# Calculate the semi-minor axis\n",
    "semi_minor_axis = semi_major_axis * np.sqrt(1 - eccentricity**2)\n",
    "\n",
    "# Generate an array of angles from 0 to 2*pi\n",
    "angles = np.linspace(0, 2 * np.pi, 360)\n",
    "\n",
    "# Calculate the x and y coordinates of the elliptical orbit\n",
    "x = semi_major_axis * np.cos(angles)\n",
    "y = semi_minor_axis * np.sin(angles)\n",
    "\n",
    "# Plot the elliptical orbit\n",
    "plt.figure(figsize=(8, 6))\n",
    "plt.plot(x, y)\n",
    "plt.scatter(0, 0, color='yellow', label='Sun')\n",
    "plt.xlabel('x')\n",
    "plt.ylabel('y')\n",
    "plt.title('Elliptical Orbit')\n",
    "plt.legend()\n",
    "plt.axis('equal')\n",
    "plt.grid(True)\n",
    "plt.show()"
   ]
  },
  {
   "cell_type": "markdown",
   "id": "f6976d24-ef66-4695-8567-5eecaae181b0",
   "metadata": {},
   "source": [
    "<div class = \"alert alert-block alert-warning\">\n",
    "</div>"
   ]
  },
  {
   "cell_type": "markdown",
   "id": "35165689-5365-45a3-b9e0-bd12473b9582",
   "metadata": {},
   "source": [
    "## Data type of Python"
   ]
  },
  {
   "cell_type": "markdown",
   "id": "fba44c0a-2830-44f8-a020-d0ac5c55be9f",
   "metadata": {},
   "source": [
    "1. Integer (int): 1, 2, -3, 0\n",
    "2. Float: 3.14, -2.5, 0.0\n",
    "3. String: \"Hello Python\"\n",
    "4. Boolean: True, False\n",
    "5. List: [ 1, 2, 3, 4], ['a', 'b', 'c']\n",
    "6. Tuple: (1, 2, 3), (\"apple\", \"banana\", \"orange\")\n",
    "7. Set: {1, 2, 3}, {\"apple\", \"banana\", \"orange\"}\n",
    "8. Dictionary: {\"name\": \"John\", \"age\": 25, \"city\": \"New York\"}"
   ]
  },
  {
   "cell_type": "code",
   "execution_count": 11,
   "id": "36f6e9db-bf06-4b34-aae7-40d87bc23859",
   "metadata": {},
   "outputs": [
    {
     "name": "stdout",
     "output_type": "stream",
     "text": [
      "Escape velocity:  11184.982503114454 m/s.\n"
     ]
    }
   ],
   "source": [
    "# mass of planet\n",
    "mass = 5.97e24\n",
    "\n",
    "# radius of planet\n",
    "radius = 6.37e6\n",
    "\n",
    "# G (gravitational constant)\n",
    "G = 6.67430e-11\n",
    "\n",
    "# escape velocity\n",
    "escape_velocity = (2 * G * mass / radius) ** 0.5\n",
    "\n",
    "# print out result\n",
    "print(\"Escape velocity: \", escape_velocity, \"m/s.\")"
   ]
  },
  {
   "cell_type": "markdown",
   "id": "264570c9-5d26-43cc-a5a8-97ba10aaa66d",
   "metadata": {},
   "source": [
    "### String"
   ]
  },
  {
   "cell_type": "code",
   "execution_count": 12,
   "id": "323a7d7d-d35b-4d25-a08d-124948167ff7",
   "metadata": {},
   "outputs": [
    {
     "name": "stdout",
     "output_type": "stream",
     "text": [
      "The comet Halley's Comet was sighted in 1986 from Earth.\n"
     ]
    }
   ],
   "source": [
    "# Comet details\n",
    "comet_name = \"Halley's Comet\"\n",
    "sighting_year = 1986\n",
    "location = \"Earth\"\n",
    "\n",
    "#  combine text with \"+\" \n",
    "message = \"The comet \" + comet_name + \" was sighted in \" + str(sighting_year) + \" from \" + location + \".\"\n",
    "\n",
    "# print\n",
    "print(message)"
   ]
  },
  {
   "cell_type": "code",
   "execution_count": 2,
   "id": "897a4ee0-da5b-4494-b826-816af423c979",
   "metadata": {},
   "outputs": [
    {
     "name": "stdout",
     "output_type": "stream",
     "text": [
      "H\n",
      "l\n",
      "t\n"
     ]
    }
   ],
   "source": [
    "# เราสามารถแสดงค่าตัวอักษรที่เราต้องการ\n",
    "print(comet_name[0])\n",
    "print(comet_name[2])\n",
    "print(comet_name[-1])"
   ]
  },
  {
   "cell_type": "code",
   "execution_count": 13,
   "id": "a5bcf10c-2ea5-4850-a555-084d80745598",
   "metadata": {},
   "outputs": [
    {
     "name": "stdout",
     "output_type": "stream",
     "text": [
      " Character 'H' order 0\n",
      " Character 'e' order 1\n",
      " Character 'l' order 2\n",
      " Character 'l' order 3\n",
      " Character 'o' order 4\n",
      " Character ',' order 5\n",
      " Character ' ' order 6\n",
      " Character 'w' order 7\n",
      " Character 'o' order 8\n",
      " Character 'r' order 9\n",
      " Character 'l' order 10\n",
      " Character 'd' order 11\n",
      " Character '!' order 12\n"
     ]
    }
   ],
   "source": [
    "# Count the strings\n",
    "message = \"Hello, world!\"\n",
    "\n",
    "# Using a for loop to iterate over each character\n",
    "for index, char in enumerate(message):\n",
    "    print(f\" Character '{char}' order {index}\")"
   ]
  },
  {
   "cell_type": "markdown",
   "id": "4afd435e-3985-4220-b0cd-e5a22604e9af",
   "metadata": {},
   "source": [
    "### List and Tuple"
   ]
  },
  {
   "cell_type": "markdown",
   "id": "4622a8a2-9785-4609-9a51-05e3e6867157",
   "metadata": {},
   "source": [
    "List -> mutable ,Tuple -> immutable after create and assige to variable."
   ]
  },
  {
   "cell_type": "code",
   "execution_count": 14,
   "id": "e7435668-ad76-4018-ae41-a370d9f61327",
   "metadata": {},
   "outputs": [
    {
     "name": "stdout",
     "output_type": "stream",
     "text": [
      "average distance 8.4575 AU.\n"
     ]
    }
   ],
   "source": [
    "# List\n",
    "# astronomical units (AU)\n",
    "distances_au = [0.39, 0.72, 1, 1.52, 5.20, 9.58, 19.18, 30.07]\n",
    "\n",
    "# sum of data in list\n",
    "total_distance = sum(distances_au)\n",
    "\n",
    "# number of data by len()\n",
    "num_planets = len(distances_au)\n",
    "\n",
    "# Average of AU\n",
    "average_distance = total_distance / num_planets\n",
    "\n",
    "# Print the average distance\n",
    "print(\"average distance\", average_distance, \"AU.\")"
   ]
  },
  {
   "cell_type": "code",
   "execution_count": 44,
   "id": "63c67b3f-41a0-48d3-ba91-caea5ab0d889",
   "metadata": {},
   "outputs": [
    {
     "name": "stdout",
     "output_type": "stream",
     "text": [
      "The average distance of the planets from the Sun is approximately 8.4575 AU.\n"
     ]
    }
   ],
   "source": [
    "# Tuple\n",
    "# Define the distances of the planets from the Sun in astronomical units (AU)\n",
    "distances_au = (0.39, 0.72, 1, 1.52, 5.20, 9.58, 19.18, 30.07)\n",
    "\n",
    "# Calculate the total distance by summing the values in the list\n",
    "total_distance = sum(distances_au)\n",
    "\n",
    "# Calculate the number of planets using the len() function\n",
    "num_planets = len(distances_au)\n",
    "\n",
    "# Calculate the average distance by dividing the total distance by the number of planets\n",
    "average_distance = total_distance / num_planets\n",
    "\n",
    "# Print the average distance\n",
    "print(\"The average distance of the planets from the Sun is approximately\", average_distance, \"AU.\")"
   ]
  },
  {
   "cell_type": "markdown",
   "id": "cd3351a6-de24-458f-9aa2-314af59d9d5d",
   "metadata": {},
   "source": [
    "### ชนิดข้อมูลดิกชันนารี"
   ]
  },
  {
   "cell_type": "markdown",
   "id": "0eac12db-3644-4eb7-825b-6215099fe199",
   "metadata": {},
   "source": [
    "เป็นโครงสร้างข้อมูลที่ใช้เก็บข้อมูลในรูปแบบคู่ (key-value pairs) โดยใช้ key เพื่ออ้างอิงถึงค่าข้อมูลที่ต้องการ และเป็นชนิดข้อมูลที่ไม่เรียงลำดับ (unordered) และสามารถเปลี่ยนแปลงค่าข้อมูลภายในได้ (mutable)"
   ]
  },
  {
   "cell_type": "code",
   "execution_count": 47,
   "id": "aaee17ef-ba51-4246-bc29-bd0451ff8fab",
   "metadata": {},
   "outputs": [
    {
     "name": "stdin",
     "output_type": "stream",
     "text": [
      "Enter the name of a celestial object:  Sirius\n"
     ]
    },
    {
     "name": "stdout",
     "output_type": "stream",
     "text": [
      "Type: Star\n",
      "Mass: 2.02 × 10^30 kg\n",
      "Radius: 1.71 × 10^6 km\n",
      "Temperature: 9,940 K\n"
     ]
    }
   ],
   "source": [
    "# Define the dictionary of celestial objects\n",
    "celestial_objects = {\n",
    "    \"Sun\": {\n",
    "        \"type\": \"Star\",\n",
    "        \"mass\": \"1.989 × 10^30 kg\",\n",
    "        \"radius\": \"6.9634 × 10^8 meters\",\n",
    "        \"temperature\": \"5778 K\"\n",
    "    },\n",
    "    \"Moon\": {\n",
    "        \"type\": \"Natural Satellite\",\n",
    "        \"mass\": \"7.348 × 10^22 kg\",\n",
    "        \"radius\": \"1.737 × 10^6 meters\",\n",
    "        \"distance_from_earth\": \"384,400 km\"\n",
    "    },\n",
    "    \"Jupiter\": {\n",
    "        \"type\": \"Planet\",\n",
    "        \"mass\": \"1.898 × 10^27 kg\",\n",
    "        \"radius\": \"69,911 km\",\n",
    "        \"distance_from_sun\": \"778.5 million km\"\n",
    "    },\n",
    "    \"Sirius\": {\n",
    "        \"type\": \"Star\",\n",
    "        \"mass\": \"2.02 × 10^30 kg\",\n",
    "        \"radius\": \"1.71 × 10^6 km\",\n",
    "        \"temperature\": \"9,940 K\"\n",
    "    }\n",
    "}\n",
    "\n",
    "# Get user input for the celestial object\n",
    "object_name = input(\"Enter the name of a celestial object: \")\n",
    "\n",
    "# Check if the celestial object exists in the dictionary\n",
    "if object_name in celestial_objects:\n",
    "    # Retrieve the details of the celestial object\n",
    "    details = celestial_objects[object_name]\n",
    "    \n",
    "    # Print the details\n",
    "    print(\"Type:\", details[\"type\"])\n",
    "    print(\"Mass:\", details[\"mass\"])\n",
    "    print(\"Radius:\", details[\"radius\"])\n",
    "    \n",
    "    # Check if additional information is available\n",
    "    if \"temperature\" in details:\n",
    "        print(\"Temperature:\", details[\"temperature\"])\n",
    "    if \"distance_from_earth\" in details:\n",
    "        print(\"Distance from Earth:\", details[\"distance_from_earth\"])\n",
    "    if \"distance_from_sun\" in details:\n",
    "        print(\"Distance from Sun:\", details[\"distance_from_sun\"])\n",
    "else:\n",
    "    print(\"Celestial object not found in the dictionary.\")\n"
   ]
  },
  {
   "cell_type": "markdown",
   "id": "7f517f79-08c2-427e-b066-e2cc79551629",
   "metadata": {},
   "source": [
    "### Set"
   ]
  },
  {
   "cell_type": "markdown",
   "id": "4774a91c-1c7a-4de0-ad91-068bf14e6648",
   "metadata": {},
   "source": [
    "Set -> unique values, unordered"
   ]
  },
  {
   "cell_type": "code",
   "execution_count": 48,
   "id": "dca5bd84-09d8-4055-82f4-0c3b6b084c1d",
   "metadata": {},
   "outputs": [
    {
     "name": "stdout",
     "output_type": "stream",
     "text": [
      "Unique spectral types observed: {'Betelgeuse', 'Polaris', 'Sirius', 'Vega'}\n"
     ]
    }
   ],
   "source": [
    "# Define the list of observed stars\n",
    "observed_stars = [\"Sirius\", \"Vega\", \"Betelgeuse\", \"Sirius\", \"Polaris\", \"Vega\"]\n",
    "\n",
    "# Create a set to store the unique spectral types\n",
    "spectral_types = set()\n",
    "\n",
    "# Iterate over the observed stars and add the spectral type to the set\n",
    "for star in observed_stars:\n",
    "    spectral_types.add(star)\n",
    "\n",
    "# Print the unique spectral types\n",
    "print(\"Unique spectral types observed:\", spectral_types)"
   ]
  },
  {
   "cell_type": "markdown",
   "id": "c9d54623-da20-424c-b20b-3fe6dc43991f",
   "metadata": {},
   "source": [
    "<div class = \"alert alert-block alert-warning\">\n",
    "</div>"
   ]
  },
  {
   "cell_type": "markdown",
   "id": "a7fabbf9-3e5d-4bfb-925a-8ba82738f24f",
   "metadata": {},
   "source": [
    "โครงสร้างการทำงานเงื่อนไข (Conditional Statements): เราสามารถใช้คำสั่ง if, else, elif เพื่อตรวจสอบเงื่อนไขและควบคุมการทำงานของโปรแกรมตามเงื่อนไขที่กำหนด"
   ]
  },
  {
   "cell_type": "code",
   "execution_count": 9,
   "id": "a45b9857-d355-455a-91cd-2e5e458e9b6c",
   "metadata": {},
   "outputs": [
    {
     "name": "stdout",
     "output_type": "stream",
     "text": [
      "อยู่ไกล\n",
      "ขนาดเล็ก\n"
     ]
    }
   ],
   "source": [
    "# โค้ดสำหรับการอธิบายเหตุการณ์ทางดาราศาสตร์เบื้องต้น\n",
    "distance_to_earth = 150000000  # ระยะทางจากโลกไปยังดวงจันทร์ (หน่วย: กิโลเมตร)\n",
    "moon_radius = 1737             # รัศมีของดวงจันทร์ (หน่วย: กิโลเมตร)\n",
    "\n",
    "if distance_to_earth < 100000:\n",
    "    print(\"อยู่ใกล้มาก\")\n",
    "elif distance_to_earth < 1000000:\n",
    "    print(\"อยู่ใกล้\")\n",
    "else:\n",
    "    print(\"อยู่ไกล\")\n",
    "\n",
    "if moon_radius > 2000:\n",
    "    print(\"ขนาดใหญ่\")\n",
    "else:\n",
    "    print(\"ขนาดเล็ก\")\n"
   ]
  },
  {
   "cell_type": "markdown",
   "id": "8cc805df-e64f-4613-8731-4bc8f60d9800",
   "metadata": {},
   "source": [
    "for & while"
   ]
  },
  {
   "cell_type": "code",
   "execution_count": 13,
   "id": "efaee26c-ba79-4e87-8c56-8e50e9a1a709",
   "metadata": {},
   "outputs": [
    {
     "name": "stdin",
     "output_type": "stream",
     "text": [
      "ระยะทางที่ต้องการเดินทางไปยังดาวอื่นๆ (กิโลเมตร):  100\n"
     ]
    },
    {
     "name": "stdout",
     "output_type": "stream",
     "text": [
      "เวลาที่ต้องใช้ในการเดินทางไปยังดาวอื่นๆ คือ 0.00033356409519815205 วินาที\n"
     ]
    }
   ],
   "source": [
    "# รับค่าอัตราความเร็วแสง (เมตรต่อวินาที)\n",
    "speed_of_light = 299792458\n",
    "\n",
    "# รับค่าระยะทางที่ต้องการเดินทางไปยังดาวอื่นๆ (กิโลเมตร)\n",
    "distance = float(input(\"ระยะทางที่ต้องการเดินทางไปยังดาวอื่นๆ (กิโลเมตร): \"))\n",
    "\n",
    "# คำนวณเวลาที่ต้องใช้ในการเดินทาง (วินาที)\n",
    "time = distance * 1000 / speed_of_light\n",
    "\n",
    "# แสดงผลเวลาที่ต้องใช้ในการเดินทาง\n",
    "print(\"เวลาที่ต้องใช้ในการเดินทางไปยังดาวอื่นๆ คือ\", time, \"วินาที\")"
   ]
  },
  {
   "cell_type": "markdown",
   "id": "f3d0cf0e-73c7-4b58-bd1b-fec34ab47b6f",
   "metadata": {},
   "source": [
    "<div class = \"alert alert-block alert-warning\">\n",
    "</div>"
   ]
  },
  {
   "cell_type": "code",
   "execution_count": 45,
   "id": "6f0d9e08-7630-4136-9b6b-fd2a3225cfc7",
   "metadata": {},
   "outputs": [
    {
     "name": "stdout",
     "output_type": "stream",
     "text": [
      "Planet: Planet 1 - Ratio: 0.9710210893642846\n",
      "Planet: Planet 2 - Ratio: 1.0298782578875172\n",
      "Planet: Planet 3 - Ratio: 1.0\n",
      "Planet: Planet 4 - Ratio: 1.0064331535209212\n",
      "Planet: Planet 5 - Ratio: 1.0003669776968591\n",
      "Planet: Planet 6 - Ratio: 0.9871177419779409\n",
      "Planet: Planet 7 - Ratio: 1.0002675061610287\n",
      "Planet: Planet 8 - Ratio: 0.9988818695236699\n"
     ]
    }
   ],
   "source": [
    "# Define the distances of the planets from the Sun in astronomical units (AU)\n",
    "distances_au = [0.39, 0.72, 1, 1.52, 5.20, 9.58, 19.18, 30.07]\n",
    "\n",
    "# Define the orbital periods of the planets in Earth years\n",
    "orbital_periods_earth_years = [0.24, 0.62, 1, 1.88, 11.86, 29.46, 84.01, 164.8]\n",
    "\n",
    "# Verify if the number of distances and periods match\n",
    "if len(distances_au) == len(orbital_periods_earth_years):\n",
    "    # Create a list of tuples containing the planet name, distance, and orbital period\n",
    "    planet_data = []\n",
    "    for i in range(len(distances_au)):\n",
    "        planet_data.append((\"Planet \" + str(i + 1), distances_au[i], orbital_periods_earth_years[i]))\n",
    "\n",
    "    # Calculate and print the ratio of orbital period squared to distance cubed for each planet\n",
    "    for planet in planet_data:\n",
    "        orbital_period_years = planet[2]\n",
    "        distance_au = planet[1]\n",
    "        ratio = (orbital_period_years ** 2) / (distance_au ** 3)\n",
    "        print(\"Planet:\", planet[0], \"- Ratio:\", ratio)\n",
    "else:\n",
    "    print(\"Error: The number of distances and orbital periods does not match.\")\n"
   ]
  },
  {
   "cell_type": "markdown",
   "id": "a0a6238b-9f37-493c-9f15-f3e623ed9d27",
   "metadata": {},
   "source": [
    "# สรุปทั้งหมด"
   ]
  },
  {
   "cell_type": "markdown",
   "id": "5c1cada3-cd6b-48ff-9931-3c2ea920c87d",
   "metadata": {},
   "source": [
    "<b>Python มีกฎและโครงสร้างต่างๆ ที่เราต้องปฏิบัติตาม</b>\n",
    "\n",
    "1. บล็อกโค้ด (Code Blocks): ไพธอนใช้การเว้นวรรค (Indentation)\n",
    "\n",
    "2. ความคิดเห็น (Comments): เป็นการอธิบายโค้ดหรือใส่หมายเหตุ ในไพธอนใช้เครื่องหมาย `#`\n",
    "\n",
    "3. ตัวแปร (Variables): ไพธอนใช้ตัวแปรเพื่อเก็บข้อมูล\n",
    "\n",
    "4. การแสดงผล (Output): เราสามารถแสดงผลลัพธ์ในไพธอนได้โดยใช้ฟังก์ชัน `print()` โดยใส่ข้อมูลที่ต้องการแสดงผลในวงเล็บ ()\n",
    "\n",
    "5. การรับข้อมูลจากผู้ใช้ (Input): เราสามารถรับข้อมูลจากผู้ใช้ได้โดยใช้ฟังก์ชัน `input()` และเก็บข้อมูลที่ผู้ใช้ป้อนในตัวแปร\n",
    "\n",
    "6. ตัวดำเนินการ (Operators): ไพธอนมีตัวดำเนินการทางคณิตศาสตร์ เช่น `+`, `-`, `*`, `/` เป็นต้น\n",
    "\n",
    "7. โครงสร้างการทำงานเงื่อนไข (Conditional Statements): เราสามารถใช้คำสั่ง `if`, `else`, `elif` เพื่อตรวจสอบเงื่อนไข\n",
    "\n",
    "8. ลูป (Loops): เราสามารถใช้คำสั่ง `for` และ `while` เพื่อทำซ้ำการทำงานของบล็อกโค้ดตามเงื่อนไขที่กำหนด\n",
    "\n",
    "9. ฟังก์ชัน (Functions): เราสามารถสร้างฟังก์ชันในไพธอนเพื่อรวมโค้ดที่ใช้ซ้ำกันเข้าด้วยกัน เพื่อให้การเขียนโปรแกรมมีโครงสร้างและยืดหยุ่นมากยิ่งขึ้น\n",
    "\n",
    "10. โมดูล (Modules): ไพธอนมีโมดูลที่ให้บริการฟังก์ชันและอ็อบเจ็กต์เสริมมากมาย"
   ]
  },
  {
   "cell_type": "code",
   "execution_count": 27,
   "id": "4ba3ad5c-f10a-4660-b500-6b917293967a",
   "metadata": {},
   "outputs": [
    {
     "name": "stdout",
     "output_type": "stream",
     "text": [
      "Hello, world!\n",
      "Count is positive\n",
      "0\n",
      "1\n",
      "2\n",
      "3\n",
      "4\n",
      "5\n",
      "4\n",
      "3\n",
      "2\n",
      "1\n",
      "Hello, Alice!\n",
      "1\n",
      "Alice\n",
      "True\n"
     ]
    }
   ],
   "source": [
    "# This is a comment. It is ignored by the Python interpreter.\n",
    "# Comments are used for documentation or to explain the code.\n",
    "\n",
    "# Variables\n",
    "message = \"Hello, world!\"  # Assigning a string value to a variable\n",
    "count = 5  # Assigning an integer value to a variable\n",
    "pi = 3.14  # Assigning a float value to a variable\n",
    "\n",
    "# Printing output\n",
    "print(message)  # Prints the value of the variable 'message'\n",
    "\n",
    "# Conditional statements\n",
    "if count > 0:\n",
    "    print(\"Count is positive\")\n",
    "elif count == 0:\n",
    "    print(\"Count is zero\")\n",
    "else:\n",
    "    print(\"Count is negative\")\n",
    "\n",
    "# Loops\n",
    "for i in range(5):  # Looping from 0 to 4\n",
    "    print(i)\n",
    "\n",
    "while count > 0:\n",
    "    print(count)\n",
    "    count -= 1\n",
    "\n",
    "# Functions\n",
    "def greet(name):\n",
    "    \"\"\"This is a function that greets a person.\"\"\"\n",
    "    print(\"Hello, \" + name + \"!\")\n",
    "\n",
    "greet(\"Alice\")  # Calling the greet() function with an argument\n",
    "\n",
    "# Lists\n",
    "numbers = [1, 2, 3, 4, 5]  # Creating a list of numbers\n",
    "print(numbers[0])  # Accessing the first element of the list\n",
    "\n",
    "# Tuples\n",
    "person = (\"John\", 25, \"Male\")  # Creating a tuple to store person's details\n",
    "name, age, gender = person  # Unpacking tuple values into separate variables\n",
    "\n",
    "# Dictionaries\n",
    "student = {\"name\": \"Alice\", \"age\": 20, \"grade\": \"A\"}  # Creating a dictionary\n",
    "print(student[\"name\"])  # Accessing the value using the key\n",
    "\n",
    "# Sets\n",
    "fruits = {\"apple\", \"banana\", \"orange\"}  # Creating a set of fruits\n",
    "fruits.add(\"grape\")  # Adding an element to the set\n",
    "print(\"banana\" in fruits)  # Checking if an element exists in the set"
   ]
  },
  {
   "cell_type": "code",
   "execution_count": null,
   "id": "f077bab7-c80a-4bd7-992b-7b4227d4e3c6",
   "metadata": {},
   "outputs": [],
   "source": []
  }
 ],
 "metadata": {
  "kernelspec": {
   "display_name": "Python 3 (ipykernel)",
   "language": "python",
   "name": "python3"
  },
  "language_info": {
   "codemirror_mode": {
    "name": "ipython",
    "version": 3
   },
   "file_extension": ".py",
   "mimetype": "text/x-python",
   "name": "python",
   "nbconvert_exporter": "python",
   "pygments_lexer": "ipython3",
   "version": "3.9.7"
  }
 },
 "nbformat": 4,
 "nbformat_minor": 5
}
